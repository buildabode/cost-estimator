{
 "cells": [
  {
   "cell_type": "markdown",
   "metadata": {},
   "source": [
    "# Cost estimation\n",
    "\n",
    "The house construction process is comprised of many line items. Each line item has its own cost factors. This document breaks down these cost factors and creates a model to roll the cost factors up into rough home parameters.\n",
    "\n",
    "#### High-level parameters:\n",
    "- Area\n",
    "- Stories\n",
    "- Number of bedrooms\n",
    "- Number of bathrooms\n",
    "- Slope of lot\n",
    "- Finish level\n",
    "- Geography"
   ]
  },
  {
   "cell_type": "code",
   "execution_count": 175,
   "metadata": {},
   "outputs": [],
   "source": [
    "# example home\n",
    "\n",
    "area = 2500 # in sqft\n",
    "stories = 1\n",
    "bedrooms = 5\n",
    "bathrooms = 4\n",
    "lot_slope = .3\n",
    "finish_level = 1 # range from 0 - 3\n",
    "ceiling_height = 8 # ft\n",
    "width_length_ratio = 2 / 3\n",
    "\n",
    "# computed fields\n",
    "# area = width * height\n",
    "# width_length_ratio = width / length\n",
    "# width = width_length_ratio * length\n",
    "# area = width_length_ratio * length ** 2\n",
    "area_per_story = area / stories\n",
    "length = (area_per_story / width_length_ratio) ** (1/2)\n",
    "width = area_per_story / length\n",
    "assert round(length * width * stories) == area\n",
    "\n",
    "perimeter = 2 * length + 2 * width\n",
    "height = ceiling_height * stories\n",
    "\n",
    "costs = dict()"
   ]
  },
  {
   "cell_type": "markdown",
   "metadata": {},
   "source": [
    "## Structural Framing\n",
    "This gives the buidling form. Does not include interior wall framing.\n",
    "\n",
    "#### Cost factors:\n",
    "- Material\n",
    "- Height of structure\n",
    "- Width of structure\n",
    "- Length of structure\n",
    "- Stories\n",
    "- Cantilevered overhangs\n",
    "- Slope of lot\n",
    "\n",
    "#### Items:\n",
    "- Bare steel columns\n",
    "- Beams\n",
    "- Joists\n",
    "- \"B\" decking for floor, decks and roof\n",
    "- Labor\n",
    "\n"
   ]
  },
  {
   "cell_type": "code",
   "execution_count": 176,
   "metadata": {},
   "outputs": [
    {
     "data": {
      "text/plain": [
       "175719.99999999997"
      ]
     },
     "execution_count": 176,
     "metadata": {},
     "output_type": "execute_result"
    }
   ],
   "source": [
    "labor_factor = .15\n",
    "\n",
    "column_cost = 60 # per lineal ft\n",
    "beam_cost = 30 # per lineal ft\n",
    "decking_cost = 7 # per sqft\n",
    "\n",
    "supplier_margin = .2\n",
    "\n",
    "floor_column_grid_spacing = 10 # ft per column\n",
    "roof_column_grid_spacing = 15 # ft per column\n",
    "joist_spacing = 2 # ft per joist\n",
    "\n",
    "# material required\n",
    "decking_area = area + area_per_story # add story area for roof\n",
    "\n",
    "floor_columns = (width / floor_column_grid_spacing) * (length / floor_column_grid_spacing)\n",
    "columns = floor_columns * stories + (width / roof_column_grid_spacing) * (length / roof_column_grid_spacing)\n",
    "columns_length = columns * ceiling_height\n",
    "\n",
    "beams = length / joist_spacing * (stories + 1)\n",
    "beams_length = beams * width\n",
    "\n",
    "# cost formula\n",
    "cost = (decking_cost * decking_area + column_cost * columns_length + beam_cost * beams_length) * (1 + labor_factor) * (1 + supplier_margin)\n",
    "\n",
    "costs['structural_framing'] = cost\n",
    "cost"
   ]
  },
  {
   "cell_type": "markdown",
   "metadata": {},
   "source": [
    "## Glazing\n",
    "Windows and glass sliding doors.\n",
    "\n",
    "#### Cost factors:\n",
    "- Product\n",
    "- Width of structure\n",
    "- Length of structure\n",
    "- Stories\n",
    "\n",
    "#### Items:\n",
    "- Windows\n",
    "- Flashing\n",
    "- Sliding doors\n",
    "- Labor\n",
    "\n"
   ]
  },
  {
   "cell_type": "code",
   "execution_count": 177,
   "metadata": {},
   "outputs": [
    {
     "data": {
      "text/plain": [
       "47203.76363862214"
      ]
     },
     "execution_count": 177,
     "metadata": {},
     "output_type": "execute_result"
    }
   ],
   "source": [
    "labor_factor = .13\n",
    "\n",
    "window_cost = 1600\n",
    "sliding_door_cost = 10000\n",
    "\n",
    "window_spacing = 15 # ft per window\n",
    "windows = perimeter / window_spacing * stories\n",
    "\n",
    "sliding_doors_per_story = 2\n",
    "sliding_doors = stories * sliding_doors_per_story\n",
    "\n",
    "cost = (windows * window_cost + sliding_doors * sliding_door_cost) * (1 + labor_factor)\n",
    "costs['glazing'] = cost\n",
    "cost"
   ]
  },
  {
   "cell_type": "markdown",
   "metadata": {},
   "source": [
    "## Roofing & Vapor Barrier \n",
    "Single ply flat roof.\n",
    "\n",
    "#### Cost factors:\n",
    "- Stories\n",
    "- Area\n",
    "- Type\n",
    "\n",
    "#### Items:\n",
    "- Sheathing\n",
    "- Membrane, shingles, etc\n",
    "- Labor"
   ]
  },
  {
   "cell_type": "code",
   "execution_count": 178,
   "metadata": {},
   "outputs": [
    {
     "data": {
      "text/plain": [
       "17250.0"
      ]
     },
     "execution_count": 178,
     "metadata": {},
     "output_type": "execute_result"
    }
   ],
   "source": [
    "labor_factor = .15\n",
    "\n",
    "roof_cost = 6 # per sqft\n",
    "\n",
    "cost = area_per_story * roof_cost * (1 + labor_factor)\n",
    "costs['roofing'] = cost\n",
    "cost"
   ]
  },
  {
   "cell_type": "markdown",
   "metadata": {},
   "source": [
    "## Foundation\n",
    "Drilled pier foundation.\n",
    "\n",
    "#### Cost factors:\n",
    "- Stories\n",
    "- Area\n",
    "- Slope of lot\n",
    "\n",
    "#### Items:\n",
    "- Concrete\n",
    "- Piers\n",
    "- Rebar\n",
    "- Labor"
   ]
  },
  {
   "cell_type": "code",
   "execution_count": 179,
   "metadata": {},
   "outputs": [
    {
     "data": {
      "text/plain": [
       "17499.999999999996"
      ]
     },
     "execution_count": 179,
     "metadata": {},
     "output_type": "execute_result"
    }
   ],
   "source": [
    "pier_cost = 700\n",
    "\n",
    "cost = pier_cost * floor_columns\n",
    "costs['foundation'] = cost\n",
    "cost"
   ]
  },
  {
   "cell_type": "markdown",
   "metadata": {},
   "source": [
    "## Insulation\n",
    "Ridgid foam and batt insulation.\n",
    "\n",
    "#### Cost factors:\n",
    "- Height\n",
    "- Length\n",
    "- Width\n",
    "\n",
    "#### Items:\n",
    "- Ridgid foam insulation\n",
    "- Batt insulation"
   ]
  },
  {
   "cell_type": "code",
   "execution_count": 180,
   "metadata": {},
   "outputs": [
    {
     "data": {
      "text/plain": [
       "15255.884272267538"
      ]
     },
     "execution_count": 180,
     "metadata": {},
     "output_type": "execute_result"
    }
   ],
   "source": [
    "labor_factor = .15\n",
    "\n",
    "insulation_cost = 2 # per surface sqft\n",
    "\n",
    "surface_area = width * length * 2 + length * height * 2 + height * width * 2\n",
    "\n",
    "cost = surface_area * insulation_cost * (1 + labor_factor)\n",
    "costs['insulation'] = cost\n",
    "cost"
   ]
  },
  {
   "cell_type": "markdown",
   "metadata": {},
   "source": [
    "## Calculating project cost\n",
    "The major line items are accounted for above. [Our Airtable](https://airtable.com/tblSjnUTIWyi0b3Mx/viwoVUpecO99aqYnc) is a comprehensive list of all line items. The line items here are from the \"Estimation model\" view."
   ]
  },
  {
   "cell_type": "code",
   "execution_count": 181,
   "metadata": {},
   "outputs": [
    {
     "name": "stdout",
     "output_type": "stream",
     "text": [
      "LINE ITEM                 COST      \n",
      "Structural framing        $175,720.00\n",
      "Glazing                   $47,203.76\n",
      "Roofing                   $17,250.00\n",
      "Foundation                $17,500.00\n",
      "Insulation                $15,255.88\n",
      "——————————————\n",
      "TOTAL                     $272,929.65\n"
     ]
    }
   ],
   "source": [
    "total_cost = 0\n",
    "\n",
    "print(\"{:<25} {:<10}\".format('LINE ITEM','COST'))\n",
    "for key, value in costs.items():\n",
    "    total_cost += value\n",
    "    first, *others = key.split('_')\n",
    "    formatted_key = ' '.join([str.title(first), *others])\n",
    "    print(\"{:<25} ${:,.2f}\".format(formatted_key, value))\n",
    "\n",
    "print('——————————————')\n",
    "print(\"{:<25} ${:,.2f}\".format('TOTAL', total_cost))"
   ]
  },
  {
   "cell_type": "code",
   "execution_count": null,
   "metadata": {},
   "outputs": [],
   "source": []
  }
 ],
 "metadata": {
  "kernelspec": {
   "display_name": "research-SgWgtkYM",
   "language": "python",
   "name": "research-sgwgtkym"
  },
  "language_info": {
   "codemirror_mode": {
    "name": "ipython",
    "version": 3
   },
   "file_extension": ".py",
   "mimetype": "text/x-python",
   "name": "python",
   "nbconvert_exporter": "python",
   "pygments_lexer": "ipython3",
   "version": "3.7.1"
  }
 },
 "nbformat": 4,
 "nbformat_minor": 2
}
